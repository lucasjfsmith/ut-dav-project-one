{
 "cells": [
  {
   "cell_type": "code",
   "execution_count": 17,
   "id": "e0f0b656",
   "metadata": {},
   "outputs": [],
   "source": [
    "# Import dependencies\n",
    "\n",
    "import pandas as pd\n",
    "import numpy as np\n",
    "import matplotlib.pyplot as plt\n"
   ]
  },
  {
   "cell_type": "code",
   "execution_count": 2,
   "id": "1f66f267",
   "metadata": {},
   "outputs": [
    {
     "data": {
      "text/html": [
       "<div>\n",
       "<style scoped>\n",
       "    .dataframe tbody tr th:only-of-type {\n",
       "        vertical-align: middle;\n",
       "    }\n",
       "\n",
       "    .dataframe tbody tr th {\n",
       "        vertical-align: top;\n",
       "    }\n",
       "\n",
       "    .dataframe thead th {\n",
       "        text-align: right;\n",
       "    }\n",
       "</style>\n",
       "<table border=\"1\" class=\"dataframe\">\n",
       "  <thead>\n",
       "    <tr style=\"text-align: right;\">\n",
       "      <th></th>\n",
       "      <th>restaurant</th>\n",
       "      <th>item</th>\n",
       "      <th>calories</th>\n",
       "      <th>cal_fat</th>\n",
       "      <th>total_fat</th>\n",
       "      <th>sat_fat</th>\n",
       "      <th>trans_fat</th>\n",
       "      <th>cholesterol</th>\n",
       "      <th>sodium</th>\n",
       "      <th>total_carb</th>\n",
       "      <th>fiber</th>\n",
       "      <th>sugar</th>\n",
       "      <th>protein</th>\n",
       "      <th>vit_a</th>\n",
       "      <th>vit_c</th>\n",
       "      <th>calcium</th>\n",
       "      <th>salad</th>\n",
       "    </tr>\n",
       "  </thead>\n",
       "  <tbody>\n",
       "    <tr>\n",
       "      <th>0</th>\n",
       "      <td>Mcdonalds</td>\n",
       "      <td>Artisan Grilled Chicken Sandwich</td>\n",
       "      <td>380</td>\n",
       "      <td>60</td>\n",
       "      <td>7</td>\n",
       "      <td>2.0</td>\n",
       "      <td>0.0</td>\n",
       "      <td>95</td>\n",
       "      <td>1110</td>\n",
       "      <td>44</td>\n",
       "      <td>3.0</td>\n",
       "      <td>11</td>\n",
       "      <td>37.0</td>\n",
       "      <td>4.0</td>\n",
       "      <td>20.0</td>\n",
       "      <td>20.0</td>\n",
       "      <td>Other</td>\n",
       "    </tr>\n",
       "    <tr>\n",
       "      <th>1</th>\n",
       "      <td>Mcdonalds</td>\n",
       "      <td>Single Bacon Smokehouse Burger</td>\n",
       "      <td>840</td>\n",
       "      <td>410</td>\n",
       "      <td>45</td>\n",
       "      <td>17.0</td>\n",
       "      <td>1.5</td>\n",
       "      <td>130</td>\n",
       "      <td>1580</td>\n",
       "      <td>62</td>\n",
       "      <td>2.0</td>\n",
       "      <td>18</td>\n",
       "      <td>46.0</td>\n",
       "      <td>6.0</td>\n",
       "      <td>20.0</td>\n",
       "      <td>20.0</td>\n",
       "      <td>Other</td>\n",
       "    </tr>\n",
       "    <tr>\n",
       "      <th>2</th>\n",
       "      <td>Mcdonalds</td>\n",
       "      <td>Double Bacon Smokehouse Burger</td>\n",
       "      <td>1130</td>\n",
       "      <td>600</td>\n",
       "      <td>67</td>\n",
       "      <td>27.0</td>\n",
       "      <td>3.0</td>\n",
       "      <td>220</td>\n",
       "      <td>1920</td>\n",
       "      <td>63</td>\n",
       "      <td>3.0</td>\n",
       "      <td>18</td>\n",
       "      <td>70.0</td>\n",
       "      <td>10.0</td>\n",
       "      <td>20.0</td>\n",
       "      <td>50.0</td>\n",
       "      <td>Other</td>\n",
       "    </tr>\n",
       "    <tr>\n",
       "      <th>3</th>\n",
       "      <td>Mcdonalds</td>\n",
       "      <td>Grilled Bacon Smokehouse Chicken Sandwich</td>\n",
       "      <td>750</td>\n",
       "      <td>280</td>\n",
       "      <td>31</td>\n",
       "      <td>10.0</td>\n",
       "      <td>0.5</td>\n",
       "      <td>155</td>\n",
       "      <td>1940</td>\n",
       "      <td>62</td>\n",
       "      <td>2.0</td>\n",
       "      <td>18</td>\n",
       "      <td>55.0</td>\n",
       "      <td>6.0</td>\n",
       "      <td>25.0</td>\n",
       "      <td>20.0</td>\n",
       "      <td>Other</td>\n",
       "    </tr>\n",
       "    <tr>\n",
       "      <th>4</th>\n",
       "      <td>Mcdonalds</td>\n",
       "      <td>Crispy Bacon Smokehouse Chicken Sandwich</td>\n",
       "      <td>920</td>\n",
       "      <td>410</td>\n",
       "      <td>45</td>\n",
       "      <td>12.0</td>\n",
       "      <td>0.5</td>\n",
       "      <td>120</td>\n",
       "      <td>1980</td>\n",
       "      <td>81</td>\n",
       "      <td>4.0</td>\n",
       "      <td>18</td>\n",
       "      <td>46.0</td>\n",
       "      <td>6.0</td>\n",
       "      <td>20.0</td>\n",
       "      <td>20.0</td>\n",
       "      <td>Other</td>\n",
       "    </tr>\n",
       "  </tbody>\n",
       "</table>\n",
       "</div>"
      ],
      "text/plain": [
       "  restaurant                                       item  calories  cal_fat  \\\n",
       "0  Mcdonalds           Artisan Grilled Chicken Sandwich       380       60   \n",
       "1  Mcdonalds             Single Bacon Smokehouse Burger       840      410   \n",
       "2  Mcdonalds             Double Bacon Smokehouse Burger      1130      600   \n",
       "3  Mcdonalds  Grilled Bacon Smokehouse Chicken Sandwich       750      280   \n",
       "4  Mcdonalds   Crispy Bacon Smokehouse Chicken Sandwich       920      410   \n",
       "\n",
       "   total_fat  sat_fat  trans_fat  cholesterol  sodium  total_carb  fiber  \\\n",
       "0          7      2.0        0.0           95    1110          44    3.0   \n",
       "1         45     17.0        1.5          130    1580          62    2.0   \n",
       "2         67     27.0        3.0          220    1920          63    3.0   \n",
       "3         31     10.0        0.5          155    1940          62    2.0   \n",
       "4         45     12.0        0.5          120    1980          81    4.0   \n",
       "\n",
       "   sugar  protein  vit_a  vit_c  calcium  salad  \n",
       "0     11     37.0    4.0   20.0     20.0  Other  \n",
       "1     18     46.0    6.0   20.0     20.0  Other  \n",
       "2     18     70.0   10.0   20.0     50.0  Other  \n",
       "3     18     55.0    6.0   25.0     20.0  Other  \n",
       "4     18     46.0    6.0   20.0     20.0  Other  "
      ]
     },
     "execution_count": 2,
     "metadata": {},
     "output_type": "execute_result"
    }
   ],
   "source": [
    "# Import data and creat DataFrame\n",
    "\n",
    "file_path = 'Resources/fastfood.csv'\n",
    "fast_food_df = pd.read_csv(file_path)\n",
    "\n",
    "fast_food_df.head()"
   ]
  },
  {
   "cell_type": "code",
   "execution_count": 3,
   "id": "b7b418ea",
   "metadata": {},
   "outputs": [],
   "source": [
    "# CLEAN DATA\n",
    "# Update the 'salad' column to True if the substring 'salad' exists in the 'item' column\n",
    "fast_food_df['salad'] = fast_food_df['item'].str.contains(\"salad\", case=False)\n",
    "\n",
    "# Drop kids menu items\n",
    "kids_index = fast_food_df[fast_food_df['item'].str.contains(\"kids\", case=False)].index\n",
    "fast_food_df = fast_food_df.drop(kids_index)\n",
    "\n",
    "# Drop 'vit_a', 'vit_c', 'calcium' columns\n",
    "fast_food_df = fast_food_df[['restaurant', 'item', 'calories', 'cal_fat', 'total_fat', 'sat_fat',\n",
    "       'trans_fat', 'cholesterol', 'sodium', 'total_carb', 'fiber', 'sugar', 'protein', 'salad']]\n",
    "\n",
    "fast_food_df = fast_food_df.reset_index(drop=True)"
   ]
  },
  {
   "cell_type": "code",
   "execution_count": 4,
   "id": "c12cdce6",
   "metadata": {},
   "outputs": [
    {
     "data": {
      "text/html": [
       "<div>\n",
       "<style scoped>\n",
       "    .dataframe tbody tr th:only-of-type {\n",
       "        vertical-align: middle;\n",
       "    }\n",
       "\n",
       "    .dataframe tbody tr th {\n",
       "        vertical-align: top;\n",
       "    }\n",
       "\n",
       "    .dataframe thead th {\n",
       "        text-align: right;\n",
       "    }\n",
       "</style>\n",
       "<table border=\"1\" class=\"dataframe\">\n",
       "  <thead>\n",
       "    <tr style=\"text-align: right;\">\n",
       "      <th></th>\n",
       "      <th>restaurant</th>\n",
       "      <th>item</th>\n",
       "      <th>calories</th>\n",
       "      <th>cal_fat</th>\n",
       "      <th>total_fat</th>\n",
       "      <th>sat_fat</th>\n",
       "      <th>trans_fat</th>\n",
       "      <th>cholesterol</th>\n",
       "      <th>sodium</th>\n",
       "      <th>total_carb</th>\n",
       "      <th>fiber</th>\n",
       "      <th>sugar</th>\n",
       "      <th>protein</th>\n",
       "      <th>salad</th>\n",
       "    </tr>\n",
       "  </thead>\n",
       "  <tbody>\n",
       "    <tr>\n",
       "      <th>0</th>\n",
       "      <td>Mcdonalds</td>\n",
       "      <td>Artisan Grilled Chicken Sandwich</td>\n",
       "      <td>380</td>\n",
       "      <td>60</td>\n",
       "      <td>7</td>\n",
       "      <td>2.0</td>\n",
       "      <td>0.0</td>\n",
       "      <td>95</td>\n",
       "      <td>1110</td>\n",
       "      <td>44</td>\n",
       "      <td>3.0</td>\n",
       "      <td>11</td>\n",
       "      <td>37.0</td>\n",
       "      <td>False</td>\n",
       "    </tr>\n",
       "    <tr>\n",
       "      <th>1</th>\n",
       "      <td>Mcdonalds</td>\n",
       "      <td>Single Bacon Smokehouse Burger</td>\n",
       "      <td>840</td>\n",
       "      <td>410</td>\n",
       "      <td>45</td>\n",
       "      <td>17.0</td>\n",
       "      <td>1.5</td>\n",
       "      <td>130</td>\n",
       "      <td>1580</td>\n",
       "      <td>62</td>\n",
       "      <td>2.0</td>\n",
       "      <td>18</td>\n",
       "      <td>46.0</td>\n",
       "      <td>False</td>\n",
       "    </tr>\n",
       "    <tr>\n",
       "      <th>2</th>\n",
       "      <td>Mcdonalds</td>\n",
       "      <td>Double Bacon Smokehouse Burger</td>\n",
       "      <td>1130</td>\n",
       "      <td>600</td>\n",
       "      <td>67</td>\n",
       "      <td>27.0</td>\n",
       "      <td>3.0</td>\n",
       "      <td>220</td>\n",
       "      <td>1920</td>\n",
       "      <td>63</td>\n",
       "      <td>3.0</td>\n",
       "      <td>18</td>\n",
       "      <td>70.0</td>\n",
       "      <td>False</td>\n",
       "    </tr>\n",
       "    <tr>\n",
       "      <th>3</th>\n",
       "      <td>Mcdonalds</td>\n",
       "      <td>Grilled Bacon Smokehouse Chicken Sandwich</td>\n",
       "      <td>750</td>\n",
       "      <td>280</td>\n",
       "      <td>31</td>\n",
       "      <td>10.0</td>\n",
       "      <td>0.5</td>\n",
       "      <td>155</td>\n",
       "      <td>1940</td>\n",
       "      <td>62</td>\n",
       "      <td>2.0</td>\n",
       "      <td>18</td>\n",
       "      <td>55.0</td>\n",
       "      <td>False</td>\n",
       "    </tr>\n",
       "    <tr>\n",
       "      <th>4</th>\n",
       "      <td>Mcdonalds</td>\n",
       "      <td>Crispy Bacon Smokehouse Chicken Sandwich</td>\n",
       "      <td>920</td>\n",
       "      <td>410</td>\n",
       "      <td>45</td>\n",
       "      <td>12.0</td>\n",
       "      <td>0.5</td>\n",
       "      <td>120</td>\n",
       "      <td>1980</td>\n",
       "      <td>81</td>\n",
       "      <td>4.0</td>\n",
       "      <td>18</td>\n",
       "      <td>46.0</td>\n",
       "      <td>False</td>\n",
       "    </tr>\n",
       "  </tbody>\n",
       "</table>\n",
       "</div>"
      ],
      "text/plain": [
       "  restaurant                                       item  calories  cal_fat  \\\n",
       "0  Mcdonalds           Artisan Grilled Chicken Sandwich       380       60   \n",
       "1  Mcdonalds             Single Bacon Smokehouse Burger       840      410   \n",
       "2  Mcdonalds             Double Bacon Smokehouse Burger      1130      600   \n",
       "3  Mcdonalds  Grilled Bacon Smokehouse Chicken Sandwich       750      280   \n",
       "4  Mcdonalds   Crispy Bacon Smokehouse Chicken Sandwich       920      410   \n",
       "\n",
       "   total_fat  sat_fat  trans_fat  cholesterol  sodium  total_carb  fiber  \\\n",
       "0          7      2.0        0.0           95    1110          44    3.0   \n",
       "1         45     17.0        1.5          130    1580          62    2.0   \n",
       "2         67     27.0        3.0          220    1920          63    3.0   \n",
       "3         31     10.0        0.5          155    1940          62    2.0   \n",
       "4         45     12.0        0.5          120    1980          81    4.0   \n",
       "\n",
       "   sugar  protein  salad  \n",
       "0     11     37.0  False  \n",
       "1     18     46.0  False  \n",
       "2     18     70.0  False  \n",
       "3     18     55.0  False  \n",
       "4     18     46.0  False  "
      ]
     },
     "execution_count": 4,
     "metadata": {},
     "output_type": "execute_result"
    }
   ],
   "source": [
    "fast_food_df.head()"
   ]
  },
  {
   "cell_type": "code",
   "execution_count": 13,
   "id": "c24eb43e",
   "metadata": {},
   "outputs": [
    {
     "name": "stdout",
     "output_type": "stream",
     "text": [
      "      restaurant                                            item  calories  \\\n",
      "192  Burger King                         American Brewhouse King      1550   \n",
      "39     Mcdonalds      20 piece Buttermilk Crispy Chicken Tenders      2430   \n",
      "69   Chick Fil-A                        30 piece Chicken Nuggets       970   \n",
      "98         Sonic  Super Sonic Bacon Double Cheeseburger (w/mayo)      1280   \n",
      "319       Subway             Footlong Chicken & Bacon Ranch Melt      1140   \n",
      "280  Dairy Queen                              Large Cheese Curds      1050   \n",
      "175        Arbys                          Triple Decker Sandwich      1030   \n",
      "427    Taco Bell             XXL Grilled Stuft Burrito - Chicken       830   \n",
      "\n",
      "     cal_fat  total_fat  sat_fat  trans_fat  cholesterol  sodium  total_carb  \\\n",
      "192     1134        126     47.0        8.0          805    1820          21   \n",
      "39      1270        141     24.0        2.0          475    6080         103   \n",
      "69       414         46      2.5        0.0          285    3660          35   \n",
      "98       830         92     36.0        4.0          260    1630          44   \n",
      "319      500         56     20.0        2.0          190    2160          94   \n",
      "280      670         75     43.0        1.0          180    2210          52   \n",
      "175      459         51     17.0        1.0          155    2940          83   \n",
      "427      320         35     11.0        0.0           85    1940          91   \n",
      "\n",
      "     fiber  sugar  protein  salad  \n",
      "192    3.0      7    134.0  False  \n",
      "39     2.0      3    186.0  False  \n",
      "69     4.0      1    103.0  False  \n",
      "98     2.0      7     67.0  False  \n",
      "319   10.0     16     70.0  False  \n",
      "280    0.0     30     43.0  False  \n",
      "175    5.0     19     62.0  False  \n",
      "427   10.0      6     37.0  False  \n"
     ]
    }
   ],
   "source": [
    "\n",
    "# Group the dataframe by restaurant names and sort the groups by Cholesterol value in descending order\n",
    "cholesterol_sorted = fast_food_df.sort_values('cholesterol', ascending=False).groupby('restaurant').head(1)\n",
    "\n",
    "# Print the sorted groups\n",
    "print(cholesterol_sorted)\n"
   ]
  },
  {
   "cell_type": "code",
   "execution_count": null,
   "id": "663186c7",
   "metadata": {},
   "outputs": [],
   "source": [
    "# CHOLESTEROL ANALYSIS"
   ]
  },
  {
   "cell_type": "code",
   "execution_count": 20,
   "id": "374d59c9",
   "metadata": {},
   "outputs": [
    {
     "name": "stdout",
     "output_type": "stream",
     "text": [
      "              restaurant                                            item  \\\n",
      "restaurant                                                                 \n",
      "Arbys              Arbys                          Triple Decker Sandwich   \n",
      "Burger King  Burger King                         American Brewhouse King   \n",
      "Chick Fil-A  Chick Fil-A                        30 piece Chicken Nuggets   \n",
      "Dairy Queen  Dairy Queen                              Large Cheese Curds   \n",
      "Mcdonalds      Mcdonalds      20 piece Buttermilk Crispy Chicken Tenders   \n",
      "Sonic              Sonic  Super Sonic Bacon Double Cheeseburger (w/mayo)   \n",
      "Subway            Subway             Footlong Chicken & Bacon Ranch Melt   \n",
      "Taco Bell      Taco Bell             XXL Grilled Stuft Burrito - Chicken   \n",
      "\n",
      "             cholesterol  \n",
      "restaurant                \n",
      "Arbys                155  \n",
      "Burger King          805  \n",
      "Chick Fil-A          285  \n",
      "Dairy Queen          180  \n",
      "Mcdonalds            475  \n",
      "Sonic                260  \n",
      "Subway               190  \n",
      "Taco Bell             85  \n"
     ]
    }
   ],
   "source": [
    "# Group the dataframe by restaurant names\n",
    "restaurant_groups = fast_food_df.groupby('restaurant')\n",
    "\n",
    "# Get the highest cholesterol value item for each restaurant\n",
    "highest_cholesterol = restaurant_groups.apply(lambda x: x.loc[x['cholesterol'].idxmax()])\n",
    "\n",
    "# Create a new dataframe with the results\n",
    "cholesterol_df = pd.DataFrame({\n",
    "    'restaurant': highest_cholesterol['restaurant'],\n",
    "    'item': highest_cholesterol['item'],\n",
    "    'cholesterol': highest_cholesterol['cholesterol']\n",
    "})\n",
    "\n",
    "# Print the new dataframe\n",
    "print(cholesterol_df)\n"
   ]
  },
  {
   "cell_type": "code",
   "execution_count": 24,
   "id": "b03dbb90",
   "metadata": {},
   "outputs": [],
   "source": [
    "# Sort the dataframe by cholesterol value in descending order\n",
    "cholesterol_df = cholesterol_df.sort_values('cholesterol', ascending=False)\n"
   ]
  },
  {
   "cell_type": "code",
   "execution_count": 25,
   "id": "3999cbc5",
   "metadata": {},
   "outputs": [
    {
     "data": {
      "image/png": "[encoded data removed]",
      "text/plain": [
       "<Figure size 800x600 with 1 Axes>"
      ]
     },
     "metadata": {},
     "output_type": "display_data"
    }
   ],
   "source": [
    "# Create a bar chart using matplotlib\n",
    "\n",
    "fig, ax = plt.subplots(figsize=(8,6))\n",
    "ax.bar(cholesterol_df['restaurant'], cholesterol_df['cholesterol'])\n",
    "ax.set_ylabel('Cholesterol')\n",
    "ax.set_xlabel('Restaurant')\n",
    "ax.set_title('Highest Cholesterol Food Items from Different Fast-Food Chains')\n",
    "plt.xticks(rotation=45)\n",
    "\n",
    "plt.show()"
   ]
  },
  {
   "cell_type": "code",
   "execution_count": 21,
   "id": "0b97da5f",
   "metadata": {},
   "outputs": [],
   "source": [
    "# Analysis -\n",
    "# We can see through the bar graph that Burger King has the item (American Brewhouse King) \n",
    "# with highest cholesterol by a large margin. Taco Bell and Arby's have items with lower cholesterol values. \n",
    "# If someone has Cholesterol issues, they are advised to order cautiously from Burger King.\n",
    "# Suggested to dine preferrably at Taco Bell or Arby's."
   ]
  },
  {
   "cell_type": "code",
   "execution_count": null,
   "id": "3a1e862e",
   "metadata": {},
   "outputs": [],
   "source": [
    "# CALORIES ANALYSIS"
   ]
  },
  {
   "cell_type": "code",
   "execution_count": 32,
   "id": "4f517978",
   "metadata": {},
   "outputs": [
    {
     "name": "stdout",
     "output_type": "stream",
     "text": [
      "      restaurant                                              item  calories  \\\n",
      "39     Mcdonalds        20 piece Buttermilk Crispy Chicken Tenders      2430   \n",
      "192  Burger King                           American Brewhouse King      1550   \n",
      "115        Sonic  Garlic Parmesan Dunked Ultimate Chicken Sandwich      1350   \n",
      "270  Dairy Queen     6 Piece Chicken Strip Basket w/ Country Gravy      1260   \n",
      "309       Subway                         Footlong Big Hot Pastrami      1160   \n",
      "175        Arbys                            Triple Decker Sandwich      1030   \n",
      "69   Chick Fil-A                          30 piece Chicken Nuggets       970   \n",
      "426    Taco Bell                  XXL Grilled Stuft Burrito - Beef       880   \n",
      "\n",
      "     cal_fat  total_fat  sat_fat  trans_fat  cholesterol  sodium  total_carb  \\\n",
      "39      1270        141     24.0        2.0          475    6080         103   \n",
      "192     1134        126     47.0        8.0          805    1820          21   \n",
      "115      900        100     17.0        0.0          190    2180          69   \n",
      "270      590         66     11.0        1.0          120    3500         121   \n",
      "309      620         62     22.0        0.0          170    2940          94   \n",
      "175      459         51     17.0        1.0          155    2940          83   \n",
      "69       414         46      2.5        0.0          285    3660          35   \n",
      "426      380         42     14.0        1.0           75    2020          94   \n",
      "\n",
      "     fiber  sugar  protein  salad  \n",
      "39     2.0      3    186.0  False  \n",
      "192    3.0      7    134.0  False  \n",
      "115    4.0     10     23.0  False  \n",
      "270   12.0      4     49.0  False  \n",
      "309   10.0     14     58.0  False  \n",
      "175    5.0     19     62.0  False  \n",
      "69     4.0      1    103.0  False  \n",
      "426   12.0      6     31.0  False  \n"
     ]
    }
   ],
   "source": [
    "# Group the dataframe by restaurant names and sort the groups by Calories value in descending order\n",
    "calories_sorted = fast_food_df.sort_values('calories', ascending=False).groupby('restaurant').head(1)\n",
    "\n",
    "# Print the sorted groups\n",
    "print(calories_sorted)"
   ]
  },
  {
   "cell_type": "code",
   "execution_count": 33,
   "id": "3bae7d86",
   "metadata": {},
   "outputs": [
    {
     "name": "stdout",
     "output_type": "stream",
     "text": [
      "              restaurant                                              item  \\\n",
      "restaurant                                                                   \n",
      "Arbys              Arbys                            Triple Decker Sandwich   \n",
      "Burger King  Burger King                           American Brewhouse King   \n",
      "Chick Fil-A  Chick Fil-A                          30 piece Chicken Nuggets   \n",
      "Dairy Queen  Dairy Queen     6 Piece Chicken Strip Basket w/ Country Gravy   \n",
      "Mcdonalds      Mcdonalds        20 piece Buttermilk Crispy Chicken Tenders   \n",
      "Sonic              Sonic  Garlic Parmesan Dunked Ultimate Chicken Sandwich   \n",
      "Subway            Subway                         Footlong Big Hot Pastrami   \n",
      "Taco Bell      Taco Bell                  XXL Grilled Stuft Burrito - Beef   \n",
      "\n",
      "             calories  \n",
      "restaurant             \n",
      "Arbys            1030  \n",
      "Burger King      1550  \n",
      "Chick Fil-A       970  \n",
      "Dairy Queen      1260  \n",
      "Mcdonalds        2430  \n",
      "Sonic            1350  \n",
      "Subway           1160  \n",
      "Taco Bell         880  \n"
     ]
    }
   ],
   "source": [
    "# Group the dataframe by restaurant names\n",
    "restaurant_groups = fast_food_df.groupby('restaurant')\n",
    "\n",
    "# Get the highest calories value item for each restaurant\n",
    "highest_calories = restaurant_groups.apply(lambda x: x.loc[x['calories'].idxmax()])\n",
    "\n",
    "# Create a new dataframe with the results\n",
    "calories_df = pd.DataFrame({\n",
    "    'restaurant': highest_calories['restaurant'],\n",
    "    'item': highest_calories['item'],\n",
    "    'calories': highest_calories['calories']\n",
    "})\n",
    "\n",
    "# Print the new dataframe\n",
    "print(calories_df)"
   ]
  },
  {
   "cell_type": "code",
   "execution_count": 27,
   "id": "b76fde79",
   "metadata": {},
   "outputs": [],
   "source": [
    "# Sort the dataframe by calories value in descending order\n",
    "calories_df = calories_df.sort_values('calories', ascending=False)"
   ]
  },
  {
   "cell_type": "code",
   "execution_count": 29,
   "id": "e2a68482",
   "metadata": {},
   "outputs": [
    {
     "data": {
      "image/png": "[encoded data removed]",
      "text/plain": [
       "<Figure size 800x600 with 1 Axes>"
      ]
     },
     "metadata": {},
     "output_type": "display_data"
    }
   ],
   "source": [
    "# Create a bar chart using matplotlib\n",
    "\n",
    "fig, ax = plt.subplots(figsize=(8,6))\n",
    "ax.bar(calories_df['restaurant'], calories_df['calories'])\n",
    "ax.set_ylabel('Calories')\n",
    "ax.set_xlabel('Restaurant')\n",
    "ax.set_title('Highest Calorie Food Items from Different Fast-Food Chains')\n",
    "plt.xticks(rotation=45)\n",
    "\n",
    "plt.show()"
   ]
  },
  {
   "cell_type": "code",
   "execution_count": null,
   "id": "f3aaff22",
   "metadata": {},
   "outputs": [],
   "source": [
    "# Analysis -\n",
    "# We can see through the bar graph that McDonalds has the item (20 piece Buttermilk Crispy Chicken Tenders) \n",
    "# with highest Calories by a large margin. Taco Bell Chick Fil-A and Arby's have items with lower calories values. \n",
    "# If someone is looking to cut calories, they are advised to order cautiously from McDonalds.\n",
    "# Suggested to dine preferrably at Taco Bell, Chick Fil-A or Arby's."
   ]
  },
  {
   "cell_type": "code",
   "execution_count": null,
   "id": "4917be4a",
   "metadata": {},
   "outputs": [],
   "source": [
    "# WHAT TO ORDER IF YOU ARE WATCHING CALORIES"
   ]
  },
  {
   "cell_type": "code",
   "execution_count": 44,
   "id": "f7168bdb",
   "metadata": {},
   "outputs": [
    {
     "name": "stdout",
     "output_type": "stream",
     "text": [
      "              restaurant                             item  calories\n",
      "restaurant                                                         \n",
      "Arbys              Arbys               Chopped Side Salad        70\n",
      "Burger King  Burger King          4 Piece Chicken Nuggets       190\n",
      "Chick Fil-A  Chick Fil-A  4 Piece Grilled Chicken Nuggets        70\n",
      "Dairy Queen  Dairy Queen                       Side Salad        20\n",
      "Mcdonalds      Mcdonalds  Premium Asian Salad w/o Chicken       140\n",
      "Sonic              Sonic            Ultimate Chicken Club       100\n",
      "Subway            Subway              Veggie Delite Salad        50\n",
      "Taco Bell      Taco Bell              Fresco Crunchy Taco       140\n"
     ]
    }
   ],
   "source": [
    "# Group the dataframe by restaurant names\n",
    "restaurant_groups = fast_food_df.groupby('restaurant')\n",
    "\n",
    "# Get the lowest calories value item for each restaurant\n",
    "lowest_calories = restaurant_groups.apply(lambda x: x.loc[x['calories'].idxmin()])\n",
    "\n",
    "# Create a new dataframe with the results\n",
    "calories_min_df = pd.DataFrame({\n",
    "    'restaurant': lowest_calories['restaurant'],\n",
    "    'item': lowest_calories['item'],\n",
    "    'calories': lowest_calories['calories']\n",
    "})\n",
    "\n",
    "# Print the new dataframe\n",
    "print(calories_min_df)"
   ]
  },
  {
   "cell_type": "code",
   "execution_count": 45,
   "id": "8afebf63",
   "metadata": {},
   "outputs": [],
   "source": [
    "# Sort the dataframe by calories value in descending order\n",
    "calories_min_df = calories_min_df.sort_values('calories', ascending=False)"
   ]
  },
  {
   "cell_type": "code",
   "execution_count": 46,
   "id": "0bee4a4c",
   "metadata": {},
   "outputs": [
    {
     "data": {
      "image/png": "[encoded data removed]",
      "text/plain": [
       "<Figure size 800x600 with 1 Axes>"
      ]
     },
     "metadata": {},
     "output_type": "display_data"
    }
   ],
   "source": [
    "# Create a bar chart using matplotlib\n",
    "\n",
    "fig, ax = plt.subplots(figsize=(8,6))\n",
    "ax.bar(calories_min_df['restaurant'], calories_min_df['calories'])\n",
    "ax.set_ylabel('Calories')\n",
    "ax.set_xlabel('Restaurant')\n",
    "ax.set_title('Lowest Calorie Food Items from Different Fast-Food Chains')\n",
    "plt.xticks(rotation=45)\n",
    "\n",
    "plt.show()"
   ]
  },
  {
   "cell_type": "code",
   "execution_count": null,
   "id": "68eed436",
   "metadata": {},
   "outputs": [],
   "source": []
  }
 ],
 "metadata": {
  "kernelspec": {
   "display_name": "Python 3 (ipykernel)",
   "language": "python",
   "name": "python3"
  },
  "language_info": {
   "codemirror_mode": {
    "name": "ipython",
    "version": 3
   },
   "file_extension": ".py",
   "mimetype": "text/x-python",
   "name": "python",
   "nbconvert_exporter": "python",
   "pygments_lexer": "ipython3",
   "version": "3.9.13"
  }
 },
 "nbformat": 4,
 "nbformat_minor": 5
}
